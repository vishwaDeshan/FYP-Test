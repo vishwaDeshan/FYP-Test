{
 "cells": [
  {
   "cell_type": "code",
   "execution_count": 1,
   "id": "f1b08181-9848-48ac-aa54-66c09dd6337f",
   "metadata": {},
   "outputs": [
    {
     "name": "stdout",
     "output_type": "stream",
     "text": [
      "Requirement already satisfied: spotipy in c:\\users\\acer\\appdata\\local\\programs\\python\\python313\\lib\\site-packages (2.25.0)\n",
      "Requirement already satisfied: numpy in c:\\users\\acer\\appdata\\local\\programs\\python\\python313\\lib\\site-packages (2.2.3)\n",
      "Requirement already satisfied: pandas in c:\\users\\acer\\appdata\\local\\programs\\python\\python313\\lib\\site-packages (2.2.3)\n",
      "Requirement already satisfied: redis>=3.5.3 in c:\\users\\acer\\appdata\\local\\programs\\python\\python313\\lib\\site-packages (from spotipy) (5.2.1)\n",
      "Requirement already satisfied: requests>=2.25.0 in c:\\users\\acer\\appdata\\local\\programs\\python\\python313\\lib\\site-packages (from spotipy) (2.32.3)\n",
      "Requirement already satisfied: urllib3>=1.26.0 in c:\\users\\acer\\appdata\\local\\programs\\python\\python313\\lib\\site-packages (from spotipy) (2.3.0)\n",
      "Requirement already satisfied: python-dateutil>=2.8.2 in c:\\users\\acer\\appdata\\local\\programs\\python\\python313\\lib\\site-packages (from pandas) (2.9.0.post0)\n",
      "Requirement already satisfied: pytz>=2020.1 in c:\\users\\acer\\appdata\\local\\programs\\python\\python313\\lib\\site-packages (from pandas) (2025.1)\n",
      "Requirement already satisfied: tzdata>=2022.7 in c:\\users\\acer\\appdata\\local\\programs\\python\\python313\\lib\\site-packages (from pandas) (2025.1)\n",
      "Requirement already satisfied: six>=1.5 in c:\\users\\acer\\appdata\\local\\programs\\python\\python313\\lib\\site-packages (from python-dateutil>=2.8.2->pandas) (1.17.0)\n",
      "Requirement already satisfied: charset-normalizer<4,>=2 in c:\\users\\acer\\appdata\\local\\programs\\python\\python313\\lib\\site-packages (from requests>=2.25.0->spotipy) (3.4.1)\n",
      "Requirement already satisfied: idna<4,>=2.5 in c:\\users\\acer\\appdata\\local\\programs\\python\\python313\\lib\\site-packages (from requests>=2.25.0->spotipy) (3.10)\n",
      "Requirement already satisfied: certifi>=2017.4.17 in c:\\users\\acer\\appdata\\local\\programs\\python\\python313\\lib\\site-packages (from requests>=2.25.0->spotipy) (2025.1.31)\n"
     ]
    },
    {
     "name": "stderr",
     "output_type": "stream",
     "text": [
      "\n",
      "[notice] A new release of pip is available: 24.3.1 -> 25.0.1\n",
      "[notice] To update, run: python.exe -m pip install --upgrade pip\n"
     ]
    }
   ],
   "source": [
    "!pip install spotipy numpy pandas"
   ]
  },
  {
   "cell_type": "code",
   "execution_count": 2,
   "id": "e3414ff4-b0f6-4d0f-9852-64e82e7b0882",
   "metadata": {},
   "outputs": [],
   "source": [
    "import spotipy\n",
    "from spotipy.oauth2 import SpotifyClientCredentials\n",
    "import pandas as pd\n",
    "import numpy as np"
   ]
  },
  {
   "cell_type": "code",
   "execution_count": 3,
   "id": "730c796b-1655-41c6-b21f-68311fd0379c",
   "metadata": {},
   "outputs": [],
   "source": [
    "client_id = 'e424e44fcad141cb91d56a7415bed379'\n",
    "client_secret = '11fa1d9ffbce4a328d0901d6944a7ffe' \n",
    "\n",
    "# Authenticate with Spotify\n",
    "client_credentials_manager = SpotifyClientCredentials(client_id=client_id, client_secret=client_secret)\n",
    "sp = spotipy.Spotify(client_credentials_manager=client_credentials_manager)\n"
   ]
  },
  {
   "cell_type": "code",
   "execution_count": 16,
   "id": "1bca4fd6-c463-403e-8adc-f86cafd2a523",
   "metadata": {},
   "outputs": [],
   "source": [
    "def search_song(query, artist=None):\n",
    "    # Build the search query\n",
    "    if artist:\n",
    "        query = f\"{query} artist:{artist}\"  # Include artist name in the query for uniqueness\n",
    "    \n",
    "    # Perform the search with the updated query\n",
    "    results = sp.search(q=query, limit=1, type='track')\n",
    "    tracks = results['tracks']['items']\n",
    "    \n",
    "    # Sort the tracks based on popularity (descending)\n",
    "    tracks.sort(key=lambda x: x['popularity'], reverse=True)\n",
    "    \n",
    "    # Extract relevant song details\n",
    "    songs = []\n",
    "    for track in tracks:\n",
    "        song_info = {\n",
    "            'song_name': track['name'], \n",
    "            'song_id': track['id'],      \n",
    "            'artist_name': track['artists'][0]['name'],  \n",
    "            'album_name': track['album']['name'],  \n",
    "            'song_url': track['external_urls']['spotify'],\n",
    "            'popularity': track['popularity'],  # Include popularity in the song details\n",
    "        }\n",
    "        songs.append(song_info)\n",
    "    \n",
    "    return songs\n"
   ]
  },
  {
   "cell_type": "code",
   "execution_count": 17,
   "id": "87f87c44-aac1-421c-84de-5fe30b18b13a",
   "metadata": {},
   "outputs": [
    {
     "name": "stdout",
     "output_type": "stream",
     "text": [
      "Song Name: Happy - From \"Despicable Me 2\"\n",
      "Song ID: 60nZcImufyMA1MKQY3dcCH\n",
      "Artist: Pharrell Williams\n",
      "Album: G I R L\n",
      "Song URL: https://open.spotify.com/track/60nZcImufyMA1MKQY3dcCH\n",
      "--------------------------------------------------\n"
     ]
    }
   ],
   "source": [
    "song_name = \"Happy\"\n",
    "artist_name = \"Pharrell Williams\"  # You can dynamically pass the artist name as well\n",
    "\n",
    "# Search for songs related to the mood (e.g., Happy) and artist (e.g., Pharrell Williams)\n",
    "songs = search_song(song_name, artist_name)\n",
    "\n",
    "# Display the results\n",
    "for song in songs:\n",
    "    print(f\"Song Name: {song['song_name']}\")\n",
    "    print(f\"Song ID: {song['song_id']}\")\n",
    "    print(f\"Artist: {song['artist_name']}\")\n",
    "    print(f\"Album: {song['album_name']}\")\n",
    "    print(f\"Song URL: {song['song_url']}\")\n",
    "    print(\"-\" * 50)\n"
   ]
  },
  {
   "cell_type": "code",
   "execution_count": null,
   "id": "02f8c3a3-09f1-4166-b871-a69ac55a7b33",
   "metadata": {},
   "outputs": [],
   "source": []
  }
 ],
 "metadata": {
  "kernelspec": {
   "display_name": "Python 3 (ipykernel)",
   "language": "python",
   "name": "python3"
  },
  "language_info": {
   "codemirror_mode": {
    "name": "ipython",
    "version": 3
   },
   "file_extension": ".py",
   "mimetype": "text/x-python",
   "name": "python",
   "nbconvert_exporter": "python",
   "pygments_lexer": "ipython3",
   "version": "3.13.2"
  }
 },
 "nbformat": 4,
 "nbformat_minor": 5
}
